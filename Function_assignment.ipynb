{
  "nbformat": 4,
  "nbformat_minor": 0,
  "metadata": {
    "colab": {
      "provenance": []
    },
    "kernelspec": {
      "name": "python3",
      "display_name": "Python 3"
    },
    "language_info": {
      "name": "python"
    }
  },
  "cells": [
    {
      "cell_type": "markdown",
      "source": [
        "1.  What is the difference between a function and a method in Python?\n",
        "- A function is a standalone block of code that performs a task, while a method is a function associated with an object or class.     \n",
        "\n",
        "\n"
      ],
      "metadata": {
        "id": "HbBdkBNf2iNd"
      }
    },
    {
      "cell_type": "code",
      "source": [
        "# example function\n",
        "def add(a, b):\n",
        "    return a + b\n",
        "# example method\n",
        "class Calculator:\n",
        "    def add(self, a, b):\n",
        "        return a + b\n"
      ],
      "metadata": {
        "id": "n-OLsSNi6fcv"
      },
      "execution_count": null,
      "outputs": []
    },
    {
      "cell_type": "markdown",
      "source": [
        "2.  Explain the concept of function arguments and parameters in Python?\n",
        "- Parameters are variables listed in a function's definition; arguments are the actual values passed to the function when it is called."
      ],
      "metadata": {
        "id": "ZOIwt3WA8Ehc"
      }
    },
    {
      "cell_type": "code",
      "source": [
        "# example\n",
        "def greet(name):  # 'name' is a parameter\n",
        "    print(f\"Hello, {name}!\")\n",
        "\n",
        "greet(\"Alice\")  # \"Alice\" is an argument\n"
      ],
      "metadata": {
        "colab": {
          "base_uri": "https://localhost:8080/"
        },
        "id": "CReqimjw7bcH",
        "outputId": "7729df8c-13eb-4044-a77a-459dd9a903ab"
      },
      "execution_count": null,
      "outputs": [
        {
          "output_type": "stream",
          "name": "stdout",
          "text": [
            "Hello, Alice!\n"
          ]
        }
      ]
    },
    {
      "cell_type": "markdown",
      "source": [
        "3.  What are the different ways to define and call a function in Python?\n",
        "- Define using def, lambda, class method; call directly, via object, getattr, eval, partial, globals, exec.\n"
      ],
      "metadata": {
        "id": "gIY3bjEl8kOg"
      }
    },
    {
      "cell_type": "code",
      "source": [
        "# example\n",
        "# define with def\n",
        "def greet(name):\n",
        "    return f\"Hello, {name}!\"\n",
        "\n",
        "# define with lambda\n",
        "square = lambda x: x * x\n",
        "\n",
        "# define in class\n",
        "class Greeter:\n",
        "    def greet(self, name):\n",
        "        return f\"Hello, {name}!\"\n",
        "\n",
        "# call directly\n",
        "greet(\"Alice\")\n",
        "\n",
        "# call via object\n",
        "greeter = Greeter()\n",
        "greeter.greet(\"Bob\")\n",
        "\n",
        "# call using getattr\n",
        "getattr(greeter, \"greet\")(\"Charlie\")\n",
        "\n",
        "# call using eval\n",
        "eval(\"greet\")(\"Dave\")\n",
        "\n",
        "# call using partial\n",
        "from functools import partial\n",
        "add = lambda x, y: x + y\n",
        "add_five = partial(add, 5)\n",
        "add_five(10)\n",
        "\n",
        "# call using globals\n",
        "globals()[\"greet\"](\"Eve\")\n",
        "\n",
        "# call using exec\n",
        "exec(\"def say_hi(): print('Hi')\")\n",
        "say_hi()\n"
      ],
      "metadata": {
        "colab": {
          "base_uri": "https://localhost:8080/"
        },
        "id": "uSRZHoOc9Ked",
        "outputId": "c1e39ab7-90d9-4e7a-9f71-c324ba31f1da"
      },
      "execution_count": null,
      "outputs": [
        {
          "output_type": "stream",
          "name": "stdout",
          "text": [
            "Hi\n"
          ]
        }
      ]
    },
    {
      "cell_type": "markdown",
      "source": [
        "4.  What is the purpose of the `return` statement in a Python function?\n",
        "- The return statement ends a function's execution and sends a value back to the caller."
      ],
      "metadata": {
        "id": "PAqHqCiR-AZb"
      }
    },
    {
      "cell_type": "code",
      "source": [
        "# example\n",
        "def add(a, b):\n",
        "    return a + b\n",
        "\n",
        "result = add(2, 3)\n",
        "print(result)  # Output: 5\n"
      ],
      "metadata": {
        "colab": {
          "base_uri": "https://localhost:8080/"
        },
        "id": "7EJyZVuS97FA",
        "outputId": "4ccbae45-fabb-424b-af19-396401389eea"
      },
      "execution_count": null,
      "outputs": [
        {
          "output_type": "stream",
          "name": "stdout",
          "text": [
            "5\n"
          ]
        }
      ]
    },
    {
      "cell_type": "markdown",
      "source": [
        "5. What are iterators in Python and how do they differ from iterables?\n",
        "- An iterable is an object that can return an iterator using the iter() method, allowing it to be looped over. An iterator is an object with a next() method that returns items one at a time and remembers its position."
      ],
      "metadata": {
        "id": "1bPXK1xS-k4h"
      }
    },
    {
      "cell_type": "code",
      "source": [
        "# eaample\n",
        "# Iterable\n",
        "my_list = [1, 2, 3]\n",
        "\n",
        "# Iterator\n",
        "my_iter = iter(my_list)\n",
        "\n",
        "print(next(my_iter))  # Output: 1\n",
        "print(next(my_iter))  # Output: 2\n",
        "print(next(my_iter))  # Output: 3\n"
      ],
      "metadata": {
        "colab": {
          "base_uri": "https://localhost:8080/"
        },
        "id": "x93Tf_B6_Rh6",
        "outputId": "c9d960d0-8bd0-4b07-9e26-c31263f523ca"
      },
      "execution_count": null,
      "outputs": [
        {
          "output_type": "stream",
          "name": "stdout",
          "text": [
            "1\n",
            "2\n",
            "3\n"
          ]
        }
      ]
    },
    {
      "cell_type": "markdown",
      "source": [
        "6.  Explain the concept of generators in Python and how they are defined?\n",
        "- Generators in Python are special functions that return an iterator, allowing you to iterate over a sequence of values lazily, meaning they generate values on the fly and do not store the entire sequence in memory. They are defined using the (def) keyword like regular functions but use the (yield) statement to return values one at a time, pausing the function's state between each yield"
      ],
      "metadata": {
        "id": "BebcY7v2_tZ7"
      }
    },
    {
      "cell_type": "code",
      "source": [
        "# example\n",
        "def my_generator(n):\n",
        "    value = 0\n",
        "    while value < n:\n",
        "        yield value\n",
        "        value += 1\n",
        "\n",
        "for val in my_generator(3):\n",
        "    print(val)\n"
      ],
      "metadata": {
        "colab": {
          "base_uri": "https://localhost:8080/"
        },
        "id": "BTYFvEgUAtCm",
        "outputId": "105d0256-5095-4467-858f-2cf368054448"
      },
      "execution_count": null,
      "outputs": [
        {
          "output_type": "stream",
          "name": "stdout",
          "text": [
            "0\n",
            "1\n",
            "2\n"
          ]
        }
      ]
    },
    {
      "cell_type": "markdown",
      "source": [
        "7.  What are the advantages of using generators over regular functions?\n",
        "- Generators in Python offer several advantages over regular functions, particularly in scenarios involving large datasets or infinite sequences.\n",
        "\n",
        "This generator function count_up yields an infinite sequence of numbers, demonstrating how generators can handle infinite sequences efficiently.\n",
        "\n",
        "\n",
        " - memory efficeancy / lazy evolution / state preservation / cleaner code."
      ],
      "metadata": {
        "id": "Cf9w2TMjA4Pz"
      }
    },
    {
      "cell_type": "code",
      "source": [
        "# example\n",
        "def count_up():\n",
        "    num = 0\n",
        "    while True:\n",
        "        yield num\n",
        "        num += 1\n",
        "\n",
        "counter = count_up()\n",
        "for _ in range(5):\n",
        "    print(next(counter))\n"
      ],
      "metadata": {
        "colab": {
          "base_uri": "https://localhost:8080/"
        },
        "id": "iehMmURtC5Qg",
        "outputId": "a337c595-e0fe-46d2-b450-72a004a78df6"
      },
      "execution_count": null,
      "outputs": [
        {
          "output_type": "stream",
          "name": "stdout",
          "text": [
            "0\n",
            "1\n",
            "2\n",
            "3\n",
            "4\n"
          ]
        }
      ]
    },
    {
      "cell_type": "markdown",
      "source": [
        "8. . What is a lambda function in Python and when is it typically used?\n",
        "- A lambda function in Python is a small, anonymous function defined using the lambda keyword. It can take any number of arguments but can only have one expression. The result of the expression is implicitly returned."
      ],
      "metadata": {
        "id": "H42AneF8DD0c"
      }
    },
    {
      "cell_type": "code",
      "source": [
        "# example with map\n",
        "numbers = [1, 2, 3, 4]\n",
        "squared = list(map(lambda x: x ** 2, numbers))\n",
        "print(squared)  # Output: [1, 4, 9, 16]\n",
        "\n",
        "# example with filter\n",
        "numbers = [1, 2, 3, 4, 5]\n",
        "evens = list(filter(lambda x: x % 2 == 0, numbers))\n",
        "print(evens)  # Output: [2, 4]\n",
        "\n",
        "# example with sorted\n",
        "data = [(1, 'one'), (3, 'three'), (2, 'two')]\n",
        "sorted_data = sorted(data, key=lambda x: x[0])\n",
        "print(sorted_data)  # Output: [(1, 'one'), (2, 'two'), (3, 'three')]\n",
        "\n",
        "\n"
      ],
      "metadata": {
        "colab": {
          "base_uri": "https://localhost:8080/"
        },
        "id": "LjxVQRfiDCjE",
        "outputId": "9844f084-9e31-42f5-9336-4444d7ffca5c"
      },
      "execution_count": null,
      "outputs": [
        {
          "output_type": "stream",
          "name": "stdout",
          "text": [
            "[1, 4, 9, 16]\n",
            "[2, 4]\n",
            "[(1, 'one'), (2, 'two'), (3, 'three')]\n"
          ]
        }
      ]
    },
    {
      "cell_type": "markdown",
      "source": [],
      "metadata": {
        "id": "mGv2rJxj-iil"
      }
    },
    {
      "cell_type": "markdown",
      "source": [
        "9. . Explain the purpose and usage of the `map()` function in Python?\n",
        "- The map() function in Python applies a given function to each item of an iterable (like a list or tuple) and returns a map object (an iterator). This allows for efficient processing of iterable elements without the need for explicit loops."
      ],
      "metadata": {
        "id": "Pk5PYKxwEcy3"
      }
    },
    {
      "cell_type": "code",
      "source": [
        "# example\n",
        "numbers = [1, 2, 3, 4]\n",
        "squared = list(map(lambda x: x ** 2, numbers))\n",
        "print(squared)  # Output: [1, 4, 9, 16]\n"
      ],
      "metadata": {
        "colab": {
          "base_uri": "https://localhost:8080/"
        },
        "id": "ym-ilh2yE5gp",
        "outputId": "49798bf6-387f-4cfa-dda2-edf8172381c8"
      },
      "execution_count": null,
      "outputs": [
        {
          "output_type": "stream",
          "name": "stdout",
          "text": [
            "[1, 4, 9, 16]\n"
          ]
        }
      ]
    },
    {
      "cell_type": "code",
      "source": [],
      "metadata": {
        "id": "TFFLdDUNFVsv"
      },
      "execution_count": null,
      "outputs": []
    },
    {
      "cell_type": "markdown",
      "source": [
        "10.  What is the difference between `map()`, `reduce()`, and `filter()` functions in Python?\n",
        "- map applies a function to each element in an iterable and returns a new iterable with the results.\n",
        "\n",
        "- filter applies a function to each element in an iterable and returns a new iterable containing only the elements for which the function returns True.\n",
        "\n",
        "- reduce applies a function cumulatively to the items of an iterable, reducing the iterable to a single accumulated value."
      ],
      "metadata": {
        "id": "9Fl0edM1FXOI"
      }
    },
    {
      "cell_type": "code",
      "source": [
        "#example\n",
        "# map example\n",
        "numbers = [1, 2, 3, 4]\n",
        "squared = list(map(lambda x: x ** 2, numbers))\n",
        "print(squared)  # Output: [1, 4, 9, 16]\n",
        "\n",
        "# filter example\n",
        "numbers = [1, 2, 3, 4, 5]\n",
        "evens = list(filter(lambda x: x % 2 == 0, numbers))\n",
        "print(evens)  # Output: [2, 4]\n",
        "\n",
        "# reduce example\n",
        "from functools import reduce\n",
        "numbers = [1, 2, 3, 4]\n",
        "product = reduce(lambda x, y: x * y, numbers)\n",
        "print(product)  # Output: 24\n"
      ],
      "metadata": {
        "colab": {
          "base_uri": "https://localhost:8080/"
        },
        "id": "EsVtuuGLF7__",
        "outputId": "409421a2-b026-44e2-fe24-934f8b1b3c04"
      },
      "execution_count": null,
      "outputs": [
        {
          "output_type": "stream",
          "name": "stdout",
          "text": [
            "[1, 4, 9, 16]\n",
            "[2, 4]\n",
            "24\n"
          ]
        }
      ]
    },
    {
      "cell_type": "markdown",
      "source": [
        "11. Using pen & Paper write the internal mechanism for sum operation using  reduce function on this given\n",
        "list:[47,11,42,13]; ?\n",
        "\n",
        "# unable to upload image\n",
        "- Initial Step:\n",
        "\n",
        "Take the first two elements: 47 and 11.\n",
        "\n",
        "Apply the addition function: 47 + 11 = 58.\n",
        "\n",
        "This result (58) becomes the accumulator for the next step.\n",
        "\n",
        "- Second Step:\n",
        "\n",
        "Take the accumulator (58) and the next element (42).\n",
        "\n",
        "Apply the addition function: 58 + 42 = 100.\n",
        "\n",
        "Update the accumulator to 100.\n",
        "\n",
        "- Third Step:\n",
        "\n",
        "Take the accumulator (100) and the next element (13).\n",
        "\n",
        "Apply the addition function: 100 + 13 = 113.\n",
        "\n",
        "Update the accumulator to 113.\n",
        "\n"
      ],
      "metadata": {
        "id": "ZxsI1XrILvle"
      }
    },
    {
      "cell_type": "code",
      "source": [
        "# example\n",
        "from functools import reduce\n",
        "\n",
        "numbers = [47, 11, 42, 13]\n",
        "total = reduce(lambda x, y: x + y, numbers)\n",
        "print(total)  # Output: 113\n"
      ],
      "metadata": {
        "colab": {
          "base_uri": "https://localhost:8080/"
        },
        "id": "rvRC-PDsM5Le",
        "outputId": "34500571-1992-48a0-dab7-61eb40860c09"
      },
      "execution_count": null,
      "outputs": [
        {
          "output_type": "stream",
          "name": "stdout",
          "text": [
            "113\n"
          ]
        }
      ]
    },
    {
      "cell_type": "code",
      "source": [
        "# PRACTICAL QUESTION\n",
        "# 1.Write a Python function that takes a list of numbers as input and returns the sum of all even numbers in the list.\n",
        "number = [12,3,4,56,73,24,9]\n",
        "\n",
        "def sum_even(numbers):\n",
        "    return sum(n for n in numbers if n % 2 == 0)\n",
        "\n",
        "sum_even(number)"
      ],
      "metadata": {
        "colab": {
          "base_uri": "https://localhost:8080/"
        },
        "id": "oNcDeUi0emgX",
        "outputId": "05420811-8e24-4acb-e22d-36dab80dd7cc"
      },
      "execution_count": 23,
      "outputs": [
        {
          "output_type": "execute_result",
          "data": {
            "text/plain": [
              "96"
            ]
          },
          "metadata": {},
          "execution_count": 23
        }
      ]
    },
    {
      "cell_type": "markdown",
      "source": [],
      "metadata": {
        "id": "fgJNe0iULkFu"
      }
    },
    {
      "cell_type": "code",
      "source": [
        "#2. Create a Python function that accepts a string and returns the reverse of that string.\n",
        "s=\"prince\"\n",
        "def reverse_string(s):\n",
        "    return s[::-1]\n",
        "\n",
        "reverse_string(s)"
      ],
      "metadata": {
        "colab": {
          "base_uri": "https://localhost:8080/",
          "height": 35
        },
        "id": "Gajen3Kvh5_m",
        "outputId": "7fa5369c-097c-41e8-e4a6-93cbc8c1a1bc"
      },
      "execution_count": 25,
      "outputs": [
        {
          "output_type": "execute_result",
          "data": {
            "text/plain": [
              "'ecnirp'"
            ],
            "application/vnd.google.colaboratory.intrinsic+json": {
              "type": "string"
            }
          },
          "metadata": {},
          "execution_count": 25
        }
      ]
    },
    {
      "cell_type": "code",
      "source": [
        "#3. Implement a Python function that takes a list of integers and returns a new list containing the squares ofeach number.\n",
        "number = [2,3,4,5,6,7]\n",
        "def square_list(numbers):\n",
        "    return [n**2 for n in numbers]\n",
        "\n",
        "square_list(number)"
      ],
      "metadata": {
        "colab": {
          "base_uri": "https://localhost:8080/"
        },
        "id": "f0Vv8QAHiXCN",
        "outputId": "fe2ae45e-c274-43ff-934b-370933586bb0"
      },
      "execution_count": 26,
      "outputs": [
        {
          "output_type": "execute_result",
          "data": {
            "text/plain": [
              "[4, 9, 16, 25, 36, 49]"
            ]
          },
          "metadata": {},
          "execution_count": 26
        }
      ]
    },
    {
      "cell_type": "code",
      "source": [
        "#4. Write a Python function that checks if a given number is prime or not from 1 to 200.\n",
        "num=200\n",
        "def is_prime(n):\n",
        "    if n < 2:\n",
        "        return False\n",
        "    for i in range(2, int(n**0.5)+1):\n",
        "        if n % i == 0:\n",
        "            return False\n",
        "    return True\n",
        "is_prime(num)"
      ],
      "metadata": {
        "colab": {
          "base_uri": "https://localhost:8080/"
        },
        "id": "O_D4GToyin7v",
        "outputId": "947783d4-50e0-4dd2-8395-099946408c21"
      },
      "execution_count": 27,
      "outputs": [
        {
          "output_type": "execute_result",
          "data": {
            "text/plain": [
              "False"
            ]
          },
          "metadata": {},
          "execution_count": 27
        }
      ]
    },
    {
      "cell_type": "code",
      "source": [
        "#5. Create an iterator class in Python that generates the Fibonacci sequence up to a specified number ofterms.\n",
        "\n",
        "class Fibonacci:\n",
        "    def __init__(self, max_terms):\n",
        "        self.max_terms = max_terms\n",
        "        self.a, self.b = 0, 1\n",
        "        self.count = 0\n",
        "\n",
        "    def __iter__(self):\n",
        "        return self\n",
        "\n",
        "    def __next__(self):\n",
        "        if self.count >= self.max_terms:\n",
        "            raise StopIteration\n",
        "        self.count += 1\n",
        "        self.a, self.b = self.b, self.a + self.b\n",
        "        return self.a\n"
      ],
      "metadata": {
        "id": "SdmGPch0iyOh"
      },
      "execution_count": null,
      "outputs": []
    },
    {
      "cell_type": "code",
      "source": [
        "#6. Write a generator function in Python that yields the powers of 2 up to a given exponent.\n",
        "def powers_of_two(n):\n",
        "    for i in range(n + 1):\n",
        "        yield 2 ** i\n"
      ],
      "metadata": {
        "id": "Hg8CP_HRjTiP"
      },
      "execution_count": null,
      "outputs": []
    },
    {
      "cell_type": "code",
      "source": [
        "#7. Implement a generator function that reads a file line by line and yields each line as a string.\n",
        "def read_file_lines(filename):\n",
        "    with open(filename, 'r') as f:\n",
        "        for line in f:\n",
        "            yield line.strip()\n"
      ],
      "metadata": {
        "id": "g3xgW_csja8v"
      },
      "execution_count": null,
      "outputs": []
    },
    {
      "cell_type": "code",
      "source": [
        "#8. Use a lambda function in Python to sort a list of tuples based on the second element of each tuple.\n",
        "data = [(1, 3), (2, 1), (4, 2)]\n",
        "sorted_data = sorted(data, key=lambda x: x[1])\n"
      ],
      "metadata": {
        "id": "EId9WTW_jkIA"
      },
      "execution_count": null,
      "outputs": []
    },
    {
      "cell_type": "code",
      "source": [
        "#9. Write a Python program that uses `map()` to convert a list of temperatures from Celsius to Fahrenheit.\n",
        "celsius = [0, 20, 37, 100]\n",
        "fahrenheit = list(map(lambda c: c * 9 / 5 + 32, celsius))\n"
      ],
      "metadata": {
        "id": "Z4oBvt6ajriA"
      },
      "execution_count": null,
      "outputs": []
    },
    {
      "cell_type": "code",
      "source": [
        "#10. Create a Python program that uses `filter()` to remove all the vowels from a given string.\n",
        "s = \"hello world\"\n",
        "no_vowels = ''.join(filter(lambda c: c.lower() not in \"aeiou\", s))\n"
      ],
      "metadata": {
        "id": "AbdoXdDhjzod"
      },
      "execution_count": null,
      "outputs": []
    },
    {
      "cell_type": "code",
      "source": [
        "#11. Imagine an accounting routine used in a book shop. It works on a list with sublists, which look like this:\n",
        "\n",
        "orders = [\n",
        "    [\"34587\", \"Learning Python, Mark lutz\", 40.95, 4],\n",
        "    [\"98762\", \"Programming Python, Mark lutz\", 56.80, 5],\n",
        "    [\"77226\", \"Head First Python, Paul barry\", 32.95, 3],\n",
        "    [\"88112\", \"Einführung in Python3, Bernd klein\", 24.99, 3]\n",
        "]\n",
        "\n",
        "def process_orders(order_list):\n",
        "    result = []\n",
        "    for order in order_list:\n",
        "        order_number = order[0]\n",
        "        total_cost = order[2] * order[3]\n",
        "        if total_cost < 100:\n",
        "            total_cost += 10\n",
        "        result.append((order_number, total_cost))\n",
        "    return result\n",
        "\n",
        "result = process_orders(orders)\n",
        "print(result)\n"
      ],
      "metadata": {
        "colab": {
          "base_uri": "https://localhost:8080/"
        },
        "id": "ekLKN0pZj-X2",
        "outputId": "a47c9b94-fcaa-4cab-813b-67e311c98d19"
      },
      "execution_count": 29,
      "outputs": [
        {
          "output_type": "stream",
          "name": "stdout",
          "text": [
            "[('34587', 163.8), ('98762', 284.0), ('77226', 108.85000000000001), ('88112', 84.97)]\n"
          ]
        }
      ]
    },
    {
      "cell_type": "code",
      "source": [],
      "metadata": {
        "id": "cwfNE5_AnqpT"
      },
      "execution_count": 28,
      "outputs": []
    }
  ]
}